{
  "nbformat": 4,
  "nbformat_minor": 0,
  "metadata": {
    "colab": {
      "provenance": [],
      "authorship_tag": "ABX9TyMCp6aJ2eQ3C8Ejvgle3oUg",
      "include_colab_link": true
    },
    "kernelspec": {
      "name": "python3",
      "display_name": "Python 3"
    },
    "language_info": {
      "name": "python"
    }
  },
  "cells": [
    {
      "cell_type": "markdown",
      "metadata": {
        "id": "view-in-github",
        "colab_type": "text"
      },
      "source": [
        "<a href=\"https://colab.research.google.com/github/Ravneet7878/ML-Codes/blob/main/Principle_Component_Analysis_(PCA).ipynb\" target=\"_parent\"><img src=\"https://colab.research.google.com/assets/colab-badge.svg\" alt=\"Open In Colab\"/></a>"
      ]
    },
    {
      "cell_type": "code",
      "execution_count": null,
      "metadata": {
        "id": "DVAO7eVzKSxi"
      },
      "outputs": [],
      "source": [
        "import numpy as np\n",
        "import pandas as pd\n",
        "import warnings\n",
        "warnings.filterwarnings('ignore')"
      ]
    },
    {
      "cell_type": "code",
      "source": [
        "from sklearn.datasets import load_diabetes"
      ],
      "metadata": {
        "id": "UxlxWHHEPDQ3"
      },
      "execution_count": null,
      "outputs": []
    },
    {
      "cell_type": "code",
      "source": [
        "diabetes = load_diabetes()"
      ],
      "metadata": {
        "id": "4fh_lhtwxiDx"
      },
      "execution_count": null,
      "outputs": []
    },
    {
      "cell_type": "code",
      "source": [
        "X = diabetes[\"data\"]"
      ],
      "metadata": {
        "id": "Rro9gHkQyOWj"
      },
      "execution_count": null,
      "outputs": []
    },
    {
      "cell_type": "markdown",
      "source": [
        "**STEP -** **1**"
      ],
      "metadata": {
        "id": "LufWZw6rzVcl"
      }
    },
    {
      "cell_type": "code",
      "source": [
        "# Mean Cenetring.\n",
        "\n",
        "u = X.mean(axis = 0)\n",
        "X_dash = (X - u)"
      ],
      "metadata": {
        "id": "8Wsvv1I4yi9-"
      },
      "execution_count": null,
      "outputs": []
    },
    {
      "cell_type": "markdown",
      "source": [
        "**STEP - 2**"
      ],
      "metadata": {
        "id": "C3hM4Rqkz2mO"
      }
    },
    {
      "cell_type": "code",
      "source": [
        "# Convariance Matrix.\n",
        "\n",
        "S = np.dot(X_dash.T, X_dash)"
      ],
      "metadata": {
        "id": "SMSi-jKjzu_R"
      },
      "execution_count": null,
      "outputs": []
    },
    {
      "cell_type": "markdown",
      "source": [
        "**STEP - 3**"
      ],
      "metadata": {
        "id": "sAnpwoyE0TK1"
      }
    },
    {
      "cell_type": "code",
      "source": [
        "# Eigen Value Decomposition.\n",
        "\n",
        "lambdas, vectors = np.linalg.eig(S)"
      ],
      "metadata": {
        "id": "Ue9DfZnr0SfF"
      },
      "execution_count": null,
      "outputs": []
    },
    {
      "cell_type": "markdown",
      "source": [
        "**STEP - 4**"
      ],
      "metadata": {
        "id": "kTDe5Pf21Zqe"
      }
    },
    {
      "cell_type": "code",
      "source": [
        "# Get Top K Eigen Vectors.\n",
        "\n",
        "K = 2\n",
        "v = vectors[:, :K]"
      ],
      "metadata": {
        "id": "MsWhoZTT09FA"
      },
      "execution_count": null,
      "outputs": []
    },
    {
      "cell_type": "markdown",
      "source": [
        "**STEP - 5**"
      ],
      "metadata": {
        "id": "oVKXaklXBV-j"
      }
    },
    {
      "cell_type": "code",
      "source": [
        "X_dash.shape"
      ],
      "metadata": {
        "colab": {
          "base_uri": "https://localhost:8080/"
        },
        "id": "4si4wfs91uGO",
        "outputId": "f53f6e0d-bc6b-4e3d-d987-59c5dd457eaa"
      },
      "execution_count": null,
      "outputs": [
        {
          "output_type": "execute_result",
          "data": {
            "text/plain": [
              "(442, 10)"
            ]
          },
          "metadata": {},
          "execution_count": 54
        }
      ]
    },
    {
      "cell_type": "code",
      "source": [
        "v.shape"
      ],
      "metadata": {
        "colab": {
          "base_uri": "https://localhost:8080/"
        },
        "id": "6HrO2jdWBeQs",
        "outputId": "de8b3cbb-b815-4ca4-f8dd-c95e976ec67a"
      },
      "execution_count": null,
      "outputs": [
        {
          "output_type": "execute_result",
          "data": {
            "text/plain": [
              "(10, 2)"
            ]
          },
          "metadata": {},
          "execution_count": 55
        }
      ]
    },
    {
      "cell_type": "code",
      "source": [
        "# Projection.\n",
        "\n",
        "X_new = np.dot(X_dash, v)\n",
        "X_new.shape"
      ],
      "metadata": {
        "colab": {
          "base_uri": "https://localhost:8080/"
        },
        "id": "hBqNqDuIBhMd",
        "outputId": "8edfcb2d-7299-4563-c763-c5e0ffa8ea1d"
      },
      "execution_count": null,
      "outputs": [
        {
          "output_type": "execute_result",
          "data": {
            "text/plain": [
              "(442, 2)"
            ]
          },
          "metadata": {},
          "execution_count": 56
        }
      ]
    },
    {
      "cell_type": "code",
      "source": [
        "X_new[: 5]"
      ],
      "metadata": {
        "colab": {
          "base_uri": "https://localhost:8080/"
        },
        "id": "tAqazsvDBpYb",
        "outputId": "2d046153-0492-4c2c-87d7-5b2519b1d258"
      },
      "execution_count": null,
      "outputs": [
        {
          "output_type": "execute_result",
          "data": {
            "text/plain": [
              "array([[-0.02793021,  0.09260136],\n",
              "       [ 0.13468668, -0.06526327],\n",
              "       [-0.01294384,  0.07776432],\n",
              "       [-0.00234407, -0.01818311],\n",
              "       [ 0.03597929, -0.03862101]])"
            ]
          },
          "metadata": {},
          "execution_count": 57
        }
      ]
    },
    {
      "cell_type": "code",
      "source": [
        "total = sum(lambdas)"
      ],
      "metadata": {
        "id": "te58onEdFq8h"
      },
      "execution_count": null,
      "outputs": []
    },
    {
      "cell_type": "code",
      "source": [
        "explained_variance = np.round(lambdas / total, decimals = 3)\n",
        "explained_variance"
      ],
      "metadata": {
        "colab": {
          "base_uri": "https://localhost:8080/"
        },
        "id": "afUbqhGcF2t5",
        "outputId": "b48d9680-c07d-4bb1-b9cf-17cedd359e11"
      },
      "execution_count": null,
      "outputs": [
        {
          "output_type": "execute_result",
          "data": {
            "text/plain": [
              "array([0.402, 0.149, 0.121, 0.096, 0.001, 0.008, 0.066, 0.043, 0.06 ,\n",
              "       0.054])"
            ]
          },
          "metadata": {},
          "execution_count": 59
        }
      ]
    },
    {
      "cell_type": "code",
      "source": [
        "explained_variance[: 2].sum()"
      ],
      "metadata": {
        "colab": {
          "base_uri": "https://localhost:8080/"
        },
        "id": "0fr-FbISGHEy",
        "outputId": "481397b6-dfbf-4cae-9291-c97adaf15851"
      },
      "execution_count": null,
      "outputs": [
        {
          "output_type": "execute_result",
          "data": {
            "text/plain": [
              "0.551"
            ]
          },
          "metadata": {},
          "execution_count": 60
        }
      ]
    },
    {
      "cell_type": "code",
      "source": [
        "cummulative_variance = np.cumsum(explained_variance)\n",
        "cummulative_variance"
      ],
      "metadata": {
        "colab": {
          "base_uri": "https://localhost:8080/"
        },
        "id": "LZwpUB3iGys9",
        "outputId": "3df31a46-7968-454d-af96-d946634cfbe2"
      },
      "execution_count": null,
      "outputs": [
        {
          "output_type": "execute_result",
          "data": {
            "text/plain": [
              "array([0.402, 0.551, 0.672, 0.768, 0.769, 0.777, 0.843, 0.886, 0.946,\n",
              "       1.   ])"
            ]
          },
          "metadata": {},
          "execution_count": 61
        }
      ]
    },
    {
      "cell_type": "code",
      "source": [
        "import matplotlib.pyplot as plt\n",
        "plt.style.use(\"seaborn\")"
      ],
      "metadata": {
        "id": "Bu8fWtUfHEGN"
      },
      "execution_count": null,
      "outputs": []
    },
    {
      "cell_type": "code",
      "source": [
        "plt.plot(range(1, len(cummulative_variance) + 1), cummulative_variance, marker = \"o\")\n",
        "plt.xlabel(\"Number of Components\")\n",
        "plt.ylabel(\"Cummulative Variance\")\n",
        "plt.show()"
      ],
      "metadata": {
        "colab": {
          "base_uri": "https://localhost:8080/",
          "height": 503
        },
        "id": "gj-I2t6rHJtU",
        "outputId": "bb7cab0f-d95f-4c2e-f33d-ad3c840e7d9a"
      },
      "execution_count": null,
      "outputs": [
        {
          "output_type": "display_data",
          "data": {
            "text/plain": [
              "<Figure size 800x550 with 1 Axes>"
            ],
            "image/png": "[encoded data removed]"
          },
          "metadata": {}
        }
      ]
    },
    {
      "cell_type": "markdown",
      "source": [
        "**USING SKLEARN**"
      ],
      "metadata": {
        "id": "qAr1Zh0KCKZT"
      }
    },
    {
      "cell_type": "code",
      "source": [
        "from sklearn.decomposition import PCA"
      ],
      "metadata": {
        "id": "QiqqsAhyB4ln"
      },
      "execution_count": null,
      "outputs": []
    },
    {
      "cell_type": "code",
      "source": [
        "pca = PCA(n_components = 2)"
      ],
      "metadata": {
        "id": "xst1byc2CTpZ"
      },
      "execution_count": null,
      "outputs": []
    },
    {
      "cell_type": "code",
      "source": [
        "pca.fit_transform(X)"
      ],
      "metadata": {
        "colab": {
          "base_uri": "https://localhost:8080/"
        },
        "id": "r3f2CU0vCXTx",
        "outputId": "ffe8859a-165b-44ec-f161-fd087045130c"
      },
      "execution_count": null,
      "outputs": [
        {
          "output_type": "execute_result",
          "data": {
            "text/plain": [
              "array([[ 2.79302143e-02, -9.26013646e-02],\n",
              "       [-1.34686684e-01,  6.52632727e-02],\n",
              "       [ 1.29438351e-02, -7.77643220e-02],\n",
              "       [ 2.34406501e-03,  1.81831115e-02],\n",
              "       [-3.59792948e-02,  3.86210104e-02],\n",
              "       [-1.88658648e-01, -1.81251811e-02],\n",
              "       [-9.48362169e-02, -3.83153020e-02],\n",
              "       [ 9.87389141e-02,  8.69445676e-02],\n",
              "       [ 2.86822631e-02, -4.19165932e-02],\n",
              "       [-1.00905803e-02, -2.34443516e-02],\n",
              "       [-1.83420944e-01, -7.28738636e-02],\n",
              "       [ 1.88791436e-02, -3.00866109e-02],\n",
              "       [-7.59310434e-02,  4.66834546e-02],\n",
              "       [ 1.51476346e-02, -3.09692531e-02],\n",
              "       [-8.01680343e-02,  8.64702045e-02],\n",
              "       [ 1.40489680e-01,  4.51900438e-02],\n",
              "       [ 7.58472275e-03,  4.33938287e-02],\n",
              "       [ 1.08837693e-01, -7.06847922e-03],\n",
              "       [-5.49928895e-02, -2.03721799e-02],\n",
              "       [-8.42647445e-02,  4.41809113e-02],\n",
              "       [-9.55938999e-02, -1.37939377e-02],\n",
              "       [-9.18736436e-02, -3.95422482e-02],\n",
              "       [-7.97264785e-02,  3.42316636e-02],\n",
              "       [ 1.79488925e-01, -8.39239510e-02],\n",
              "       [-6.13395932e-02, -1.18647819e-02],\n",
              "       [ 3.92289797e-03, -5.10815831e-02],\n",
              "       [-1.84827979e-01, -4.67873276e-02],\n",
              "       [-4.96968646e-02, -2.63118063e-02],\n",
              "       [-8.36794754e-02, -2.87315084e-03],\n",
              "       [-1.71888452e-02, -6.69918566e-02],\n",
              "       [-5.58612706e-02,  1.70261900e-02],\n",
              "       [-1.64968454e-01,  3.10721686e-02],\n",
              "       [ 1.24056413e-01, -1.39902254e-01],\n",
              "       [-1.36512070e-01,  2.59189070e-02],\n",
              "       [-1.40161670e-01, -5.63355535e-03],\n",
              "       [-3.34424701e-02,  8.95452998e-02],\n",
              "       [-6.77614763e-03,  2.10248325e-02],\n",
              "       [-6.69445835e-02,  7.15279250e-03],\n",
              "       [ 1.85193066e-01,  2.08698212e-02],\n",
              "       [ 7.28675450e-03, -1.49529076e-02],\n",
              "       [ 1.15507114e-01,  2.04193015e-02],\n",
              "       [-1.74464005e-01, -2.47391588e-02],\n",
              "       [-2.76535738e-02, -8.51264414e-02],\n",
              "       [-8.56907362e-02,  9.88694527e-02],\n",
              "       [ 9.67997109e-02, -7.97604211e-02],\n",
              "       [-1.01486317e-02, -2.33658967e-02],\n",
              "       [-1.15569604e-01, -1.48484343e-02],\n",
              "       [-1.61763082e-01, -5.13032231e-02],\n",
              "       [-4.07020176e-02,  1.94687577e-02],\n",
              "       [ 6.12596235e-02, -6.87902545e-02],\n",
              "       [-4.92361498e-02, -2.33380393e-02],\n",
              "       [ 9.78358813e-03, -7.29738140e-02],\n",
              "       [-1.46170649e-02,  7.55584532e-02],\n",
              "       [ 1.34675753e-02,  3.15081933e-02],\n",
              "       [-4.08832622e-02,  5.95151542e-02],\n",
              "       [-1.16621627e-01,  6.08978954e-02],\n",
              "       [-1.52021504e-02, -3.73506274e-02],\n",
              "       [-2.05136652e-01, -2.71312302e-02],\n",
              "       [-1.25906203e-01,  1.06046270e-01],\n",
              "       [ 6.89943948e-02,  5.74905369e-02],\n",
              "       [-1.64254405e-01, -1.75853723e-02],\n",
              "       [ 3.57728639e-02, -1.00595142e-01],\n",
              "       [-9.15918013e-02,  1.04198797e-02],\n",
              "       [-5.32321057e-02,  6.15060303e-02],\n",
              "       [-5.72412644e-02, -6.99817153e-02],\n",
              "       [ 8.24591868e-02, -5.10086971e-02],\n",
              "       [ 4.76620720e-02, -6.23897662e-02],\n",
              "       [ 9.97591072e-03, -1.93737816e-02],\n",
              "       [-2.42696192e-02, -4.26790608e-02],\n",
              "       [-9.41294250e-02, -5.02133203e-02],\n",
              "       [-8.43450896e-02,  6.22569623e-02],\n",
              "       [ 8.47077299e-02,  9.74560100e-03],\n",
              "       [ 8.04791546e-02,  9.46796756e-02],\n",
              "       [ 4.89558218e-02,  2.59064029e-02],\n",
              "       [ 4.01472366e-02,  1.35415653e-02],\n",
              "       [ 2.99986064e-03, -3.15321715e-02],\n",
              "       [-6.25671658e-02, -1.81237706e-01],\n",
              "       [-1.33201177e-01,  6.76728629e-03],\n",
              "       [-7.47465917e-02, -6.15645677e-02],\n",
              "       [-8.00470134e-02,  4.28855110e-02],\n",
              "       [ 5.75578499e-02,  1.04340565e-01],\n",
              "       [ 2.91401208e-02, -5.13136427e-03],\n",
              "       [-1.09965914e-01,  1.14348007e-01],\n",
              "       [-9.91678462e-02, -3.61462954e-02],\n",
              "       [-1.69801743e-01,  4.60491667e-02],\n",
              "       [-4.02222544e-02,  1.95493805e-02],\n",
              "       [-9.98401410e-02, -5.61050825e-02],\n",
              "       [-1.02180256e-02,  1.15876937e-01],\n",
              "       [-7.48947450e-02, -2.45996601e-02],\n",
              "       [-8.27388257e-02,  5.36623524e-02],\n",
              "       [-1.29084819e-01,  3.49861839e-02],\n",
              "       [ 8.50736043e-02,  7.40964738e-02],\n",
              "       [-1.66685012e-02,  2.92259859e-02],\n",
              "       [-1.41107773e-01,  7.13806086e-02],\n",
              "       [-1.20859993e-01,  5.93103749e-02],\n",
              "       [-7.92917190e-02, -2.62520733e-02],\n",
              "       [ 9.26094502e-02, -6.21822663e-02],\n",
              "       [ 7.81674911e-02,  1.21811753e-02],\n",
              "       [-4.84811358e-02, -1.93736646e-02],\n",
              "       [ 2.85587055e-03,  5.33632352e-02],\n",
              "       [ 3.47062070e-02,  8.78325309e-02],\n",
              "       [-1.47061785e-02,  1.79569412e-02],\n",
              "       [-3.77500658e-02,  7.47773262e-02],\n",
              "       [ 8.81231657e-02,  1.30685982e-02],\n",
              "       [-7.67499699e-02,  5.26285486e-03],\n",
              "       [-1.95769292e-02, -4.43799355e-02],\n",
              "       [-1.60841513e-01,  4.41607413e-03],\n",
              "       [ 2.82976385e-02,  3.93078077e-03],\n",
              "       [ 5.71462252e-02, -1.34327891e-01],\n",
              "       [ 9.05189385e-02, -3.83286338e-02],\n",
              "       [-9.68604247e-02, -3.63782196e-02],\n",
              "       [-5.80803414e-02,  8.02586338e-02],\n",
              "       [-2.72176649e-02,  2.49412339e-02],\n",
              "       [ 1.22241667e-01, -4.69044642e-02],\n",
              "       [ 1.01544068e-01, -3.35822699e-02],\n",
              "       [ 1.33537730e-01,  5.42871517e-03],\n",
              "       [ 1.06804623e-01, -3.51487531e-02],\n",
              "       [ 1.65985466e-01,  9.19062686e-03],\n",
              "       [ 7.50809866e-02, -2.02279784e-02],\n",
              "       [-4.86811180e-02,  1.16925688e-02],\n",
              "       [-5.20168305e-02, -2.29385753e-02],\n",
              "       [ 6.30818723e-02,  6.68918406e-03],\n",
              "       [ 1.62078822e-01, -1.61519406e-02],\n",
              "       [ 2.69644678e-01,  1.02843254e-01],\n",
              "       [-5.94325872e-02, -9.57375590e-03],\n",
              "       [ 1.32525415e-02, -8.70550111e-02],\n",
              "       [-1.89155374e-01,  3.21542322e-03],\n",
              "       [-3.73832120e-02,  6.24825051e-02],\n",
              "       [-1.09677617e-01,  4.75842709e-02],\n",
              "       [ 8.27347915e-02, -3.30857829e-03],\n",
              "       [ 8.35866370e-02, -6.57444590e-02],\n",
              "       [-1.43950754e-01,  3.57582484e-02],\n",
              "       [ 3.40856027e-02,  2.60274437e-02],\n",
              "       [-1.33981221e-01, -8.27847478e-02],\n",
              "       [-7.62123221e-02,  5.83073344e-02],\n",
              "       [ 4.02905005e-02, -7.96518478e-02],\n",
              "       [-1.92208547e-01,  1.43953561e-03],\n",
              "       [ 2.62886457e-02, -2.24825743e-02],\n",
              "       [ 8.79167871e-02, -9.73736656e-02],\n",
              "       [ 2.67560762e-02, -5.61017936e-02],\n",
              "       [ 2.70168427e-02, -6.61461792e-02],\n",
              "       [ 1.57247998e-01, -1.04831906e-03],\n",
              "       [ 8.17956801e-02,  2.79685248e-02],\n",
              "       [-7.40935303e-02,  7.53525512e-02],\n",
              "       [ 1.02398817e-01, -2.35328736e-02],\n",
              "       [-2.68459147e-02, -3.39212939e-02],\n",
              "       [ 7.13549754e-02, -3.43687931e-02],\n",
              "       [ 5.75998414e-02,  1.79829995e-03],\n",
              "       [ 6.97273017e-03,  3.19610277e-02],\n",
              "       [ 3.10930000e-02, -7.39351968e-02],\n",
              "       [ 5.72444796e-03, -3.75117909e-02],\n",
              "       [-6.14826514e-02,  3.35917517e-02],\n",
              "       [ 1.56622765e-01, -2.48707978e-02],\n",
              "       [ 1.99933089e-02, -2.16346550e-02],\n",
              "       [ 4.89716148e-02,  2.83350966e-03],\n",
              "       [ 1.40491307e-01,  4.21148356e-02],\n",
              "       [-7.95573704e-02, -7.55491027e-03],\n",
              "       [ 4.52611060e-02,  1.45365226e-02],\n",
              "       [-7.38321932e-02,  4.90829555e-02],\n",
              "       [ 4.76711433e-02,  2.70022758e-03],\n",
              "       [-1.08978800e-01,  2.71954961e-02],\n",
              "       [ 2.43969921e-01,  5.82736390e-02],\n",
              "       [-5.51486332e-02,  1.38538964e-03],\n",
              "       [ 6.64101499e-02, -5.08580700e-02],\n",
              "       [-3.66278573e-02,  8.28170912e-02],\n",
              "       [-1.34679633e-01,  2.11024117e-02],\n",
              "       [-1.62413538e-01, -8.39322771e-02],\n",
              "       [ 1.36986923e-01, -1.44816997e-02],\n",
              "       [ 2.00643706e-01, -1.37468684e-02],\n",
              "       [ 1.11929004e-01,  7.13749283e-03],\n",
              "       [-8.76088258e-02,  1.17378020e-02],\n",
              "       [-1.47012785e-01, -3.44922133e-02],\n",
              "       [ 1.36267449e-01, -2.12817172e-02],\n",
              "       [-1.16535885e-01, -7.79770614e-02],\n",
              "       [-5.91836519e-02, -1.31326774e-01],\n",
              "       [-6.13805474e-02,  6.89633273e-03],\n",
              "       [ 5.36770304e-02,  2.00408651e-04],\n",
              "       [ 1.07563240e-01, -1.01446003e-03],\n",
              "       [-5.97767157e-02,  8.78516236e-02],\n",
              "       [ 2.91189791e-02,  2.70788362e-02],\n",
              "       [ 4.43428459e-02, -5.71713868e-02],\n",
              "       [-3.31303375e-02,  1.05693521e-01],\n",
              "       [ 1.34447327e-01,  2.67895108e-02],\n",
              "       [ 4.97179077e-02, -3.42778042e-02],\n",
              "       [ 1.09456402e-02, -2.86868011e-02],\n",
              "       [ 2.76775263e-02, -7.94077704e-02],\n",
              "       [ 1.04602000e-01, -1.85097075e-02],\n",
              "       [-2.14660308e-01, -1.34557336e-02],\n",
              "       [ 3.82714219e-02,  1.09603874e-01],\n",
              "       [-4.90221386e-02,  3.60160246e-02],\n",
              "       [ 2.47645058e-02, -2.33553833e-02],\n",
              "       [-7.74122437e-02, -1.01009828e-01],\n",
              "       [-2.82553138e-02,  3.28895285e-02],\n",
              "       [ 1.09008223e-01,  4.11590332e-02],\n",
              "       [-7.26373172e-02, -3.74040413e-02],\n",
              "       [ 8.95477371e-02, -1.20703842e-02],\n",
              "       [-3.30996011e-02,  8.24621753e-02],\n",
              "       [ 8.87875709e-02, -5.97077725e-02],\n",
              "       [-1.01457879e-01, -3.44134681e-02],\n",
              "       [ 2.54944237e-02,  5.63700527e-02],\n",
              "       [-2.13997137e-03,  1.08921909e-01],\n",
              "       [-6.40282049e-02,  1.31913283e-03],\n",
              "       [ 1.44264886e-01,  1.00559400e-01],\n",
              "       [ 1.26577079e-01, -1.11690130e-02],\n",
              "       [ 8.50044613e-02, -7.17175131e-02],\n",
              "       [-4.78623185e-03, -2.33771883e-02],\n",
              "       [ 6.25563069e-02, -4.35561220e-03],\n",
              "       [ 1.92322458e-02,  1.90899993e-02],\n",
              "       [ 1.11386516e-01,  2.16810505e-03],\n",
              "       [ 3.44176908e-02, -1.00795295e-01],\n",
              "       [-3.10844041e-02,  1.10699840e-01],\n",
              "       [-1.83106545e-02, -3.79961703e-03],\n",
              "       [ 1.40434369e-02,  9.41311894e-02],\n",
              "       [-6.72016766e-02,  4.63299212e-02],\n",
              "       [-1.57494868e-01,  2.65399818e-02],\n",
              "       [ 1.06626257e-01, -1.12800844e-01],\n",
              "       [ 1.95605139e-01, -1.72411684e-02],\n",
              "       [ 9.53281341e-02,  4.85412625e-02],\n",
              "       [-1.97790212e-02,  1.11063912e-02],\n",
              "       [-1.22931941e-01, -3.99624693e-02],\n",
              "       [-1.07735781e-01, -3.73775984e-02],\n",
              "       [-4.58754083e-02,  3.54390680e-03],\n",
              "       [-3.12679681e-02, -8.49035090e-02],\n",
              "       [-1.39110872e-01, -2.18378428e-02],\n",
              "       [-1.30347747e-01, -5.61512860e-04],\n",
              "       [ 6.94488682e-02, -1.12267059e-01],\n",
              "       [-1.09607468e-01, -1.52486182e-02],\n",
              "       [-2.99930488e-02,  1.43574507e-02],\n",
              "       [-6.84192378e-02,  4.00577314e-02],\n",
              "       [-4.21293481e-02,  1.09852602e-02],\n",
              "       [ 1.86969353e-01,  1.23034964e-01],\n",
              "       [ 8.39411888e-04,  2.92896071e-02],\n",
              "       [ 9.76655540e-02,  4.07980283e-03],\n",
              "       [-6.94258408e-02,  2.34456969e-02],\n",
              "       [ 5.45985617e-02, -1.92471477e-03],\n",
              "       [ 3.96309988e-02, -1.08311701e-01],\n",
              "       [ 9.08578758e-02,  9.38229749e-02],\n",
              "       [-8.36153667e-02,  6.61180745e-02],\n",
              "       [ 6.45937000e-02, -9.09504410e-02],\n",
              "       [ 6.33499633e-02,  1.09020813e-01],\n",
              "       [ 1.02678471e-01, -7.18099654e-02],\n",
              "       [ 3.10503942e-02,  4.15293869e-03],\n",
              "       [-1.44492173e-01, -9.61210635e-02],\n",
              "       [-4.34352374e-02, -3.98633482e-02],\n",
              "       [-6.83866423e-02, -6.29585477e-02],\n",
              "       [-1.59181917e-01, -3.18352969e-03],\n",
              "       [-2.65694858e-03,  1.34409966e-01],\n",
              "       [-1.38092194e-01,  7.15636739e-02],\n",
              "       [ 1.92799196e-01,  1.06147512e-01],\n",
              "       [ 9.70240322e-02,  2.70710971e-02],\n",
              "       [ 7.30139836e-02, -4.58617267e-02],\n",
              "       [ 1.97243312e-01, -3.49780772e-02],\n",
              "       [ 4.54430424e-02,  3.13629150e-02],\n",
              "       [ 1.14773989e-01,  5.20953169e-02],\n",
              "       [ 1.81925772e-01, -4.88781597e-02],\n",
              "       [-6.61641731e-02,  3.84818161e-02],\n",
              "       [ 4.23514434e-02, -5.71279455e-02],\n",
              "       [-6.72032580e-02,  3.25551282e-03],\n",
              "       [ 8.67666991e-02, -2.28876418e-02],\n",
              "       [-9.86182115e-03,  2.12912970e-03],\n",
              "       [-1.37378849e-01,  1.04270681e-01],\n",
              "       [-6.16465672e-02,  1.14248961e-01],\n",
              "       [ 1.17755167e-01, -5.07147226e-02],\n",
              "       [-1.21667464e-01, -3.77699300e-02],\n",
              "       [-1.89207085e-02, -7.05876454e-02],\n",
              "       [-1.37433094e-03, -1.40243718e-02],\n",
              "       [-1.32669276e-01,  3.37497520e-02],\n",
              "       [ 6.64772063e-02,  1.08200214e-01],\n",
              "       [ 1.68993761e-01, -4.90559513e-02],\n",
              "       [-1.06910827e-01,  1.35216493e-01],\n",
              "       [ 1.21302626e-04, -6.96877016e-02],\n",
              "       [ 1.54248801e-02, -7.93849753e-02],\n",
              "       [-1.14949082e-01, -4.91539585e-02],\n",
              "       [ 1.61572718e-01,  8.98472021e-03],\n",
              "       [ 7.58858526e-03,  2.76712380e-03],\n",
              "       [ 2.62757632e-02, -5.61591817e-02],\n",
              "       [ 9.04278227e-02,  1.51040901e-01],\n",
              "       [-1.34142430e-01, -3.26694017e-03],\n",
              "       [ 3.52628095e-02, -2.69337269e-02],\n",
              "       [-4.24983250e-02, -2.86603424e-02],\n",
              "       [ 3.14383678e-02, -1.57111299e-03],\n",
              "       [-6.19630095e-02, -3.38971154e-02],\n",
              "       [ 8.72464306e-02,  1.20787045e-01],\n",
              "       [-1.22754150e-01,  4.15159909e-03],\n",
              "       [-1.93575547e-02, -1.03286530e-01],\n",
              "       [ 7.91994713e-02, -5.97812577e-03],\n",
              "       [-1.77667178e-01,  5.37962619e-02],\n",
              "       [ 1.02094755e-01,  1.58139993e-01],\n",
              "       [ 1.64480589e-02,  5.65181890e-02],\n",
              "       [ 9.12123013e-02,  3.37593960e-03],\n",
              "       [ 1.14682055e-01, -5.85390864e-02],\n",
              "       [ 6.63539391e-02,  7.16152488e-02],\n",
              "       [-1.51738239e-01,  1.50674991e-02],\n",
              "       [ 8.85314916e-03,  3.08260452e-02],\n",
              "       [-2.68902474e-02, -2.57355994e-02],\n",
              "       [-2.06015439e-02, -2.36457179e-02],\n",
              "       [-1.07719820e-01,  3.54328091e-02],\n",
              "       [-1.10237347e-01,  5.47551434e-03],\n",
              "       [-9.11575448e-02, -1.04515481e-01],\n",
              "       [-1.82263287e-02, -5.02856943e-02],\n",
              "       [ 3.40623109e-02, -8.34545469e-03],\n",
              "       [ 2.98440052e-02,  1.91547568e-02],\n",
              "       [ 5.89654753e-02,  3.23134934e-02],\n",
              "       [ 8.41436653e-02,  5.60346253e-02],\n",
              "       [ 1.17411365e-01,  5.48774529e-02],\n",
              "       [ 2.14576597e-02, -3.84579374e-02],\n",
              "       [-3.97204733e-02, -5.38641508e-02],\n",
              "       [ 9.48530462e-02, -6.49436965e-03],\n",
              "       [-1.76049128e-01, -1.40513446e-02],\n",
              "       [ 8.50519387e-02,  6.73765493e-02],\n",
              "       [ 3.22813422e-02, -1.49748672e-03],\n",
              "       [ 7.98771773e-02,  6.11530167e-02],\n",
              "       [-9.08244267e-02,  1.41117311e-02],\n",
              "       [ 1.09242013e-01, -1.36477668e-02],\n",
              "       [-2.55925446e-02,  7.85960067e-03],\n",
              "       [-4.63445944e-02,  8.71043162e-02],\n",
              "       [ 7.57808130e-02, -5.44347233e-02],\n",
              "       [ 9.73876582e-02,  7.60860467e-02],\n",
              "       [ 1.22752389e-02,  6.96563157e-02],\n",
              "       [-1.98700509e-02,  4.67128371e-03],\n",
              "       [ 1.03875355e-01,  8.64725618e-02],\n",
              "       [ 2.20712306e-01, -5.60728353e-03],\n",
              "       [ 2.15121619e-01, -1.06363752e-01],\n",
              "       [ 1.84087736e-01, -3.27367760e-02],\n",
              "       [ 1.47394102e-01,  6.37593956e-02],\n",
              "       [ 1.30785708e-01,  5.12969672e-02],\n",
              "       [ 5.19790585e-02, -4.07913435e-02],\n",
              "       [ 5.90699819e-02,  3.45104878e-02],\n",
              "       [-2.34007501e-02, -2.04333996e-02],\n",
              "       [-4.50693160e-02, -3.12435069e-02],\n",
              "       [ 8.92530808e-02, -5.34012684e-02],\n",
              "       [-3.82209931e-02, -8.67867747e-02],\n",
              "       [ 1.07591204e-01, -5.63197262e-02],\n",
              "       [ 6.75358312e-02, -6.69608870e-02],\n",
              "       [-1.25542853e-01, -7.34541858e-02],\n",
              "       [-1.00473584e-01,  6.55568780e-02],\n",
              "       [ 1.93608353e-01,  5.38302571e-02],\n",
              "       [ 5.66103381e-02, -5.24251644e-02],\n",
              "       [-5.39343226e-02,  2.89815639e-02],\n",
              "       [ 3.82061988e-02,  1.10533543e-01],\n",
              "       [-3.05068912e-02,  8.94711871e-03],\n",
              "       [ 3.52431076e-02, -6.15503632e-02],\n",
              "       [ 5.42354797e-02, -4.16924657e-02],\n",
              "       [-2.50998613e-02,  2.97686370e-02],\n",
              "       [ 5.27203635e-03,  7.04838164e-02],\n",
              "       [ 6.91954084e-02,  3.23786170e-02],\n",
              "       [ 1.78619520e-01,  8.61606685e-02],\n",
              "       [-3.10074433e-02, -1.09742068e-02],\n",
              "       [-6.46780933e-02,  4.92453270e-02],\n",
              "       [-7.28477909e-02, -1.25776323e-01],\n",
              "       [ 1.19248780e-01, -6.08897053e-02],\n",
              "       [-1.33445744e-01, -8.62991771e-02],\n",
              "       [-1.60384038e-01, -5.82651055e-03],\n",
              "       [ 4.63969763e-02,  7.64420230e-02],\n",
              "       [ 1.55339465e-01,  6.36323799e-02],\n",
              "       [-3.19909835e-02, -6.17501725e-02],\n",
              "       [-3.82232472e-02,  1.47677673e-02],\n",
              "       [ 3.95458082e-03, -6.09299443e-02],\n",
              "       [-1.49984298e-01,  2.76101376e-02],\n",
              "       [ 8.36770746e-02, -3.20029651e-02],\n",
              "       [ 1.67574886e-02, -9.23915082e-03],\n",
              "       [-9.25996522e-02,  1.26539157e-03],\n",
              "       [ 6.32167341e-02, -9.35493214e-02],\n",
              "       [ 6.97256925e-03, -9.42998923e-02],\n",
              "       [ 6.42825282e-02, -5.04158781e-02],\n",
              "       [ 3.33429100e-02,  2.20246784e-02],\n",
              "       [ 1.47534180e-01, -3.55669925e-02],\n",
              "       [ 1.29279583e-01, -3.28276760e-02],\n",
              "       [ 9.51697957e-02, -3.90373697e-02],\n",
              "       [ 6.48736189e-03, -2.48750644e-02],\n",
              "       [-1.27627255e-01,  7.68709417e-02],\n",
              "       [ 1.00244842e-01, -1.33147813e-02],\n",
              "       [-1.84977463e-02,  1.44289946e-02],\n",
              "       [-1.04600480e-01, -4.51635583e-02],\n",
              "       [-1.52086861e-01, -2.77242577e-02],\n",
              "       [ 7.61692167e-02,  9.81832463e-03],\n",
              "       [ 1.58571055e-01,  1.15476115e-01],\n",
              "       [ 7.38783046e-02, -2.48827942e-02],\n",
              "       [ 3.93528967e-02, -4.21304777e-02],\n",
              "       [-1.41862287e-01, -7.89464070e-02],\n",
              "       [-5.58208124e-02, -5.03674430e-02],\n",
              "       [-9.14835923e-02, -4.59791209e-02],\n",
              "       [ 4.29690648e-02, -6.11438501e-02],\n",
              "       [-4.54388917e-02, -3.83161349e-02],\n",
              "       [ 5.78458017e-02,  9.91117083e-02],\n",
              "       [-5.34756434e-02, -7.98585587e-02],\n",
              "       [-7.21817308e-02,  4.35717665e-02],\n",
              "       [-1.13833468e-01, -1.84126567e-02],\n",
              "       [ 2.71766663e-02, -3.56256655e-02],\n",
              "       [-9.87127053e-02,  1.35503919e-02],\n",
              "       [ 1.37345877e-01, -7.38472595e-02],\n",
              "       [-1.62676698e-01, -1.98535178e-03],\n",
              "       [ 1.20693175e-02,  1.44210940e-02],\n",
              "       [-1.11848229e-01,  1.33456311e-02],\n",
              "       [ 1.06677833e-01, -5.36816609e-02],\n",
              "       [-4.91711402e-02,  1.45636079e-02],\n",
              "       [-1.35395857e-01, -5.86427484e-02],\n",
              "       [-2.90564764e-02, -3.72694007e-02],\n",
              "       [ 1.05213158e-02,  6.14803253e-02],\n",
              "       [ 7.66937385e-02, -2.21833749e-02],\n",
              "       [-4.66919725e-02,  1.02213735e-02],\n",
              "       [-1.21785888e-01,  2.90953088e-02],\n",
              "       [ 9.10499670e-02, -3.98878843e-02],\n",
              "       [ 4.61701377e-02, -2.78473834e-02],\n",
              "       [-3.01936454e-02, -2.50720383e-02],\n",
              "       [ 3.13352185e-02, -1.87534976e-01],\n",
              "       [-1.86035733e-01,  3.38402249e-02],\n",
              "       [ 3.32554031e-02,  1.76005308e-02],\n",
              "       [ 8.71334690e-02,  2.43916069e-02],\n",
              "       [ 1.06440610e-01,  1.22333861e-02],\n",
              "       [ 6.49625073e-02,  1.26958457e-02],\n",
              "       [-1.17858604e-01, -4.20590676e-02],\n",
              "       [ 8.50908547e-02,  1.35699525e-02],\n",
              "       [-5.88466608e-02,  5.47234927e-02],\n",
              "       [ 1.78440789e-01,  7.52563922e-02],\n",
              "       [ 5.43678829e-02,  3.15223069e-02],\n",
              "       [ 4.90779181e-02, -1.50018724e-02],\n",
              "       [-5.12968049e-02,  9.36558653e-03],\n",
              "       [ 1.92307203e-02,  1.60667234e-01],\n",
              "       [-1.36840862e-01, -2.06858435e-02],\n",
              "       [ 3.24094859e-02,  1.18480202e-02],\n",
              "       [ 1.24745772e-01, -9.65144978e-03],\n",
              "       [ 8.38311468e-02,  4.50281454e-02],\n",
              "       [ 1.04066677e-01, -2.18217037e-03],\n",
              "       [ 4.56184401e-02, -5.86867895e-02],\n",
              "       [-1.97220711e-01, -5.60600868e-02],\n",
              "       [ 1.36545716e-01,  1.69460638e-02],\n",
              "       [-6.69382061e-02, -9.38800174e-02],\n",
              "       [ 1.79598406e-01, -4.10155270e-02],\n",
              "       [-5.16536687e-02,  1.03378704e-01],\n",
              "       [-4.45144807e-03,  5.07923514e-02],\n",
              "       [-4.05545410e-02, -3.71297971e-02],\n",
              "       [ 1.10531974e-01,  4.96334922e-02],\n",
              "       [-9.14927570e-02,  1.32092811e-01],\n",
              "       [-2.89019546e-02,  4.11250155e-02],\n",
              "       [-5.62727929e-02,  1.39575517e-02],\n",
              "       [-1.78998931e-01,  5.53235422e-02],\n",
              "       [ 5.89581860e-02, -4.92759532e-02],\n",
              "       [ 6.01565579e-02,  3.62122367e-02],\n",
              "       [-9.76067230e-03, -5.73391803e-02],\n",
              "       [ 3.29565183e-02,  9.99472701e-03],\n",
              "       [-9.05612226e-02,  1.89108406e-01]])"
            ]
          },
          "metadata": {},
          "execution_count": 66
        }
      ]
    },
    {
      "cell_type": "code",
      "source": [
        "pca.explained_variance_ratio_"
      ],
      "metadata": {
        "colab": {
          "base_uri": "https://localhost:8080/"
        },
        "id": "ObJDHrloCbDe",
        "outputId": "93486b6e-cad8-4604-8f8f-2469d835a763"
      },
      "execution_count": null,
      "outputs": [
        {
          "output_type": "execute_result",
          "data": {
            "text/plain": [
              "array([0.40242108, 0.14923197])"
            ]
          },
          "metadata": {},
          "execution_count": 67
        }
      ]
    },
    {
      "cell_type": "code",
      "source": [
        "pca.explained_variance_ratio_.sum()"
      ],
      "metadata": {
        "colab": {
          "base_uri": "https://localhost:8080/"
        },
        "id": "w3jtM0deFdBN",
        "outputId": "ff97aedf-f408-4aa4-c854-1de9906f513e"
      },
      "execution_count": null,
      "outputs": [
        {
          "output_type": "execute_result",
          "data": {
            "text/plain": [
              "0.5516530427751477"
            ]
          },
          "metadata": {},
          "execution_count": 68
        }
      ]
    },
    {
      "cell_type": "code",
      "source": [],
      "metadata": {
        "id": "r7GP55v3FhE1"
      },
      "execution_count": null,
      "outputs": []
    }
  ]
}